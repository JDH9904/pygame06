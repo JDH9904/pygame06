{
 "cells": [
  {
   "cell_type": "code",
   "execution_count": null,
   "id": "05554175",
   "metadata": {
    "scrolled": true
   },
   "outputs": [
    {
     "name": "stdout",
     "output_type": "stream",
     "text": [
      "pygame 2.4.0 (SDL 2.26.4, Python 3.10.9)\n",
      "Hello from the pygame community. https://www.pygame.org/contribute.html\n"
     ]
    }
   ],
   "source": [
    "import pygame\n",
    "\n",
    "# 초기화 -> 변수선언\n",
    "pygame.init()\n",
    "# 게임화면설정 - 크기 고정\n",
    "size = [400,900]\n",
    "screen = pygame.display.set_mode(size)\n",
    "title = \"kimcoingha\"\n",
    "pygame.display.set_caption(title)\n",
    "# 게임 화면 내 설정 - 변수\n",
    "clock = pygame.time.Clock()\n",
    "bl = (0,0,0)\n",
    "gy = (130,130,130)\n",
    "\n",
    "k = 0\n",
    "# 메인 이벤트\n",
    "system_exit = 0\n",
    "while(system_exit == 0):\n",
    "    clock.tick(10)\n",
    "# fps 프레임 설정\n",
    "# 입력 키보드 마우스 감지\n",
    "for event in pygame.event.get():\n",
    "    if event.type == pygame.QUIT:\n",
    "        system_exit = 1\n",
    "        \n",
    "# 변화 입력 시간에 따른 변화\n",
    "k += 1\n",
    "if k % 2 == 0:\n",
    "    color = bl\n",
    "else:\n",
    "    color = gy\n",
    "# 전사작업 그리기\n",
    "screen.fill(color)\n",
    "# 업데이트\n",
    "pygame.display.flip()\n",
    "# 종료\n",
    "pygame.quit()\n",
    "\n"
   ]
  },
  {
   "cell_type": "code",
   "execution_count": null,
   "id": "c3818d13",
   "metadata": {},
   "outputs": [],
   "source": []
  }
 ],
 "metadata": {
  "kernelspec": {
   "display_name": "Python 3 (ipykernel)",
   "language": "python",
   "name": "python3"
  },
  "language_info": {
   "codemirror_mode": {
    "name": "ipython",
    "version": 3
   },
   "file_extension": ".py",
   "mimetype": "text/x-python",
   "name": "python",
   "nbconvert_exporter": "python",
   "pygments_lexer": "ipython3",
   "version": "3.10.9"
  }
 },
 "nbformat": 4,
 "nbformat_minor": 5
}
